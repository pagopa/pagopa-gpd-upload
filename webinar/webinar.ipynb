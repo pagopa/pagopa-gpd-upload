{
 "cells": [
  {
   "cell_type": "markdown",
   "metadata": {},
   "source": [
    "### Configuration"
   ]
  },
  {
   "cell_type": "code",
   "execution_count": null,
   "metadata": {},
   "outputs": [],
   "source": [
    "import os\n",
    "from dotenv import load_dotenv\n",
    "import requests\n",
    "\n",
    "load_dotenv()\n",
    "\n",
    "positions_zip = \"positions.zip\"\n",
    "iupds_zip = \"iupds.zip\"\n",
    "\n",
    "\n",
    "if os.path.exists(iupds_zip):\n",
    "    os.remove(iupds_zip)\n",
    "\n",
    "\n",
    "gpd_upload_path=\"https://api.uat.platform.pagopa.it/upload/gpd/debt-positions-service/v1\"\n",
    "gpd_path=\"https://api.uat.platform.pagopa.it/gpd/debt-positions-service/v1\"\n",
    "\n",
    "subscription_key = os.getenv('MY_SUBSCRIPTION_KEY')\n",
    "broker = os.getenv('PAGOPA_TEST_BROKER')\n",
    "organization = os.getenv('PAGOPA_TEST_ORGANIZATION')\n",
    "\n",
    "print(\"Configuration set successfully.\")"
   ]
  },
  {
   "cell_type": "markdown",
   "metadata": {},
   "source": [
    "### Create zip from PaymentPositions file"
   ]
  },
  {
   "cell_type": "code",
   "execution_count": null,
   "metadata": {},
   "outputs": [],
   "source": [
    "import zipfile\n",
    "\n",
    "# Create a zip file containing the JSON file\n",
    "json_filename = 'PaymentPositions.json'\n",
    "\n",
    "if os.path.exists(positions_zip):\n",
    "    os.remove(positions_zip)\n",
    "\n",
    "with zipfile.ZipFile(positions_zip, 'w') as zipf:\n",
    "    zipf.write(json_filename, compress_type=zipfile.ZIP_DEFLATED)\n",
    "\n",
    "print(f'Created {positions_zip} containing {json_filename}')"
   ]
  },
  {
   "cell_type": "markdown",
   "metadata": {},
   "source": [
    "### CREATE\n",
    "| Field | Value |\n",
    "| ------ | ------ |\n",
    "| Operation | Massive Create |\n",
    "| Body | Debt Position List |\n",
    "| URI | `{base-path}/brokers/{broker}/organizations/{organization}/debtpositions/file` |"
   ]
  },
  {
   "cell_type": "code",
   "execution_count": null,
   "metadata": {},
   "outputs": [],
   "source": [
    "url = gpd_upload_path+\"/brokers/\"+broker+\"/organizations/\"+organization+\"/debtpositions/file\"\n",
    "\n",
    "with open('./'+positions_zip, 'rb') as file:\n",
    "    files = [\n",
    "        ('file', (positions_zip, file, 'application/zip'))\n",
    "    ]\n",
    "    headers = {\n",
    "        'Ocp-Apim-Subscription-Key': subscription_key\n",
    "    }\n",
    "    response = requests.request(\"POST\", url, headers=headers, files=files)\n",
    "\n",
    "    status_location = response.headers['Location']\n",
    "    print(\"Response status code: \" + str(response.status_code))\n",
    "    print(\"Status URI: \" + status_location)"
   ]
  },
  {
   "cell_type": "markdown",
   "metadata": {},
   "source": [
    "### STATUS\n",
    "| Field | Value |\n",
    "| ------ | ------ |\n",
    "| Operation | GET Status |\n",
    "| Param | UploadKey |\n",
    "| URI | `{base-path}/brokers/{broker}/organizations/{organization}/debtpositions/file/{uploadKey}/status` |"
   ]
  },
  {
   "cell_type": "code",
   "execution_count": null,
   "metadata": {},
   "outputs": [],
   "source": [
    "url = gpd_upload_path + \"/\" + status_location\n",
    "\n",
    "response = requests.request(\"GET\", url, headers=headers)\n",
    "\n",
    "print(response.text)"
   ]
  },
  {
   "cell_type": "markdown",
   "metadata": {},
   "source": [
    "### REPORT\n",
    "| Field | Value |\n",
    "| ------ | ------ |\n",
    "| Operation | GET Report |\n",
    "| Param | UploadKey |\n",
    "| URI | `{base-path}/brokers/{broker}/organizations/{organization}/debtpositions/file/{uploadKey}/report` |"
   ]
  },
  {
   "cell_type": "code",
   "execution_count": null,
   "metadata": {},
   "outputs": [],
   "source": [
    "report_location = status_location.replace('status', 'report')\n",
    "url = gpd_upload_path + \"/\" + report_location\n",
    "\n",
    "response = requests.request(\"GET\", url, headers=headers)\n",
    "\n",
    "print(response.text)"
   ]
  },
  {
   "cell_type": "markdown",
   "metadata": {},
   "source": [
    "### Check Debt Position"
   ]
  },
  {
   "cell_type": "code",
   "execution_count": null,
   "metadata": {},
   "outputs": [],
   "source": [
    "url = gpd_path+\"/organizations/\"+organization+\"/debtpositions/IUPD_WEBINAR_003\"\n",
    "\n",
    "response = requests.request(\"GET\", url, headers=headers)\n",
    "\n",
    "print(response.text)"
   ]
  },
  {
   "cell_type": "markdown",
   "metadata": {},
   "source": [
    "### UPDATE\n",
    "| Field | Value |\n",
    "| ------ | ------ |\n",
    "| Operation | Massive Update |\n",
    "| Body | Debt Position List |\n",
    "| URI | `{base-path}/brokers/{broker}/organizations/{organization}/debtpositions/file` |"
   ]
  },
  {
   "cell_type": "markdown",
   "metadata": {},
   "source": [
    "### Create zip from PaymentPositions file"
   ]
  },
  {
   "cell_type": "code",
   "execution_count": null,
   "metadata": {},
   "outputs": [],
   "source": [
    "import zipfile\n",
    "\n",
    "# Create a zip file containing the JSON file\n",
    "json_filename = 'PaymentPositions.json'\n",
    "\n",
    "if os.path.exists(positions_zip):\n",
    "    os.remove(positions_zip)\n",
    "\n",
    "with zipfile.ZipFile(positions_zip, 'w') as zipf:\n",
    "    zipf.write(json_filename, compress_type=zipfile.ZIP_DEFLATED)\n",
    "\n",
    "print(f'Created {positions_zip} containing {json_filename}')"
   ]
  },
  {
   "cell_type": "code",
   "execution_count": null,
   "metadata": {},
   "outputs": [],
   "source": [
    "url = gpd_upload_path+\"/brokers/\"+broker+\"/organizations/\"+organization+\"/debtpositions/file\"\n",
    "\n",
    "with open('./'+positions_zip, 'rb') as file:\n",
    "    files = [\n",
    "        ('file', (positions_zip, file, 'application/zip'))\n",
    "    ]\n",
    "    headers = {\n",
    "        'Ocp-Apim-Subscription-Key': subscription_key\n",
    "    }\n",
    "    response = requests.request(\"PUT\", url, headers=headers, files=files)\n",
    "\n",
    "    status_location = response.headers['Location']\n",
    "    print(\"Response status code: \" + str(response.status_code))\n",
    "    print(\"Status URI: \" + status_location)"
   ]
  },
  {
   "cell_type": "markdown",
   "metadata": {},
   "source": [
    "### Status"
   ]
  },
  {
   "cell_type": "code",
   "execution_count": null,
   "metadata": {},
   "outputs": [],
   "source": [
    "url = gpd_upload_path + \"/\" + status_location\n",
    "\n",
    "response = requests.request(\"GET\", url, headers=headers)\n",
    "\n",
    "print(response.text)"
   ]
  },
  {
   "cell_type": "markdown",
   "metadata": {},
   "source": [
    "### Report"
   ]
  },
  {
   "cell_type": "code",
   "execution_count": null,
   "metadata": {},
   "outputs": [],
   "source": [
    "report_location = status_location.replace('status', 'report')\n",
    "url = gpd_upload_path + \"/\" + report_location\n",
    "\n",
    "response = requests.request(\"GET\", url, headers=headers)\n",
    "\n",
    "print(response.text)"
   ]
  },
  {
   "cell_type": "markdown",
   "metadata": {},
   "source": [
    "### Check Debt Position"
   ]
  },
  {
   "cell_type": "code",
   "execution_count": null,
   "metadata": {},
   "outputs": [],
   "source": [
    "url = gpd_path+\"/organizations/\"+organization+\"/debtpositions/IUPD_WEBINAR_003\"\n",
    "\n",
    "response = requests.request(\"GET\", url, headers=headers)\n",
    "\n",
    "print(response.text)"
   ]
  },
  {
   "cell_type": "markdown",
   "metadata": {},
   "source": [
    "### DELETE\n",
    "| Field | Value |\n",
    "| ------ | ------ |\n",
    "| Operation | Massive Delete |\n",
    "| Body | Debt Position IUPD List |\n",
    "| URI | `{base-path}/brokers/{broker}/organizations/{organization}/debtpositions/file` |"
   ]
  },
  {
   "cell_type": "markdown",
   "metadata": {},
   "source": [
    "### Create zip from PaymentPositionsIUPD file"
   ]
  },
  {
   "cell_type": "code",
   "execution_count": null,
   "metadata": {},
   "outputs": [],
   "source": [
    "import zipfile\n",
    "\n",
    "# Create a zip file containing the JSON file\n",
    "json_filename = 'PaymentPositionsID.json'\n",
    "\n",
    "if os.path.exists(iupds_zip):\n",
    "    os.remove(iupds_zip)\n",
    "\n",
    "with zipfile.ZipFile(iupds_zip, 'w') as zipf:\n",
    "    zipf.write(json_filename, compress_type=zipfile.ZIP_DEFLATED)\n",
    "\n",
    "print(f'Created {iupds_zip} containing {json_filename}')"
   ]
  },
  {
   "cell_type": "code",
   "execution_count": null,
   "metadata": {},
   "outputs": [],
   "source": [
    "url = gpd_upload_path+\"/brokers/\"+broker+\"/organizations/\"+organization+\"/debtpositions/file\"\n",
    "\n",
    "with open('./'+iupds_zip, 'rb') as file:\n",
    "    files = [\n",
    "        ('file', (iupds_zip, file, 'application/zip'))\n",
    "    ]\n",
    "    headers = {\n",
    "        'Ocp-Apim-Subscription-Key': subscription_key\n",
    "    }\n",
    "    response = requests.request(\"DELETE\", url, headers=headers, files=files)\n",
    "\n",
    "    status_location = response.headers['Location']\n",
    "    print(\"Response status code: \" + str(response.status_code))\n",
    "    print(\"Status URI: \" + status_location)"
   ]
  },
  {
   "cell_type": "markdown",
   "metadata": {},
   "source": [
    "### Status"
   ]
  },
  {
   "cell_type": "code",
   "execution_count": null,
   "metadata": {},
   "outputs": [],
   "source": [
    "url = gpd_upload_path + \"/\" + status_location\n",
    "\n",
    "response = requests.request(\"GET\", url, headers=headers)\n",
    "\n",
    "print(response.text)"
   ]
  },
  {
   "cell_type": "markdown",
   "metadata": {},
   "source": [
    "### Report"
   ]
  },
  {
   "cell_type": "code",
   "execution_count": null,
   "metadata": {},
   "outputs": [],
   "source": [
    "report_location = status_location.replace('status', 'report')\n",
    "url = gpd_upload_path + \"/\" + report_location\n",
    "\n",
    "response = requests.request(\"GET\", url, headers=headers)\n",
    "\n",
    "print(response.text)"
   ]
  },
  {
   "cell_type": "markdown",
   "metadata": {},
   "source": [
    "### Check Debt Position"
   ]
  },
  {
   "cell_type": "code",
   "execution_count": null,
   "metadata": {},
   "outputs": [],
   "source": [
    "url = gpd_path+\"/organizations/\"+organization+\"/debtpositions/IUPD_WEBINAR_003\"\n",
    "\n",
    "response = requests.request(\"GET\", url, headers=headers)\n",
    "\n",
    "print(response.text)"
   ]
  }
 ],
 "metadata": {
  "kernelspec": {
   "display_name": "Python 3",
   "language": "python",
   "name": "python3"
  },
  "language_info": {
   "codemirror_mode": {
    "name": "ipython",
    "version": 3
   },
   "file_extension": ".py",
   "mimetype": "text/x-python",
   "name": "python",
   "nbconvert_exporter": "python",
   "pygments_lexer": "ipython3",
   "version": "3.12.2"
  }
 },
 "nbformat": 4,
 "nbformat_minor": 2
}
